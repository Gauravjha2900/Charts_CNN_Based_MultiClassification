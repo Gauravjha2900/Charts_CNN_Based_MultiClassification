{
  "cells": [
    {
      "cell_type": "markdown",
      "metadata": {
        "id": "view-in-github",
        "colab_type": "text"
      },
      "source": [
        "<a href=\"https://colab.research.google.com/github/Gauravjha2900/Charts_CNN_Based_MultiClassification/blob/main/fine_tunning_VGG16.ipynb\" target=\"_parent\"><img src=\"https://colab.research.google.com/assets/colab-badge.svg\" alt=\"Open In Colab\"/></a>"
      ]
    },
    {
      "cell_type": "markdown",
      "metadata": {
        "id": "DDxvsgh_6Ety"
      },
      "source": [
        "##VGG 16"
      ]
    },
    {
      "cell_type": "markdown",
      "metadata": {
        "id": "d8AJLOwf6Et4"
      },
      "source": [
        ""
      ]
    },
    {
      "cell_type": "code",
      "execution_count": 2,
      "metadata": {
        "id": "0_l7P43K6Et4",
        "outputId": "817bc870-730f-49d2-8130-4568f2144825",
        "colab": {
          "base_uri": "https://localhost:8080/"
        }
      },
      "outputs": [
        {
          "output_type": "stream",
          "name": "stdout",
          "text": [
            "Mounted at /content/drive\n"
          ]
        }
      ],
      "source": [
        "from google.colab import drive\n",
        "drive.mount('/content/drive')"
      ]
    },
    {
      "cell_type": "code",
      "execution_count": 3,
      "metadata": {
        "id": "HKyLuMAZ6Et7",
        "outputId": "996efc69-3829-4e51-91f1-edec30d49725",
        "colab": {
          "base_uri": "https://localhost:8080/"
        }
      },
      "outputs": [
        {
          "output_type": "stream",
          "name": "stdout",
          "text": [
            "2.8.2\n"
          ]
        }
      ],
      "source": [
        "import tensorflow as tf\n",
        "print(tf.__version__)"
      ]
    },
    {
      "cell_type": "code",
      "execution_count": 4,
      "metadata": {
        "id": "cVxYxSX96Et7"
      },
      "outputs": [],
      "source": [
        "# import the libraries as shown below\n",
        "\n",
        "import keras\n",
        "from keras.datasets import mnist\n",
        "from keras.layers import Conv2D, MaxPooling2D, AveragePooling2D\n",
        "from keras.layers import Dense, Flatten\n",
        "from keras.models import Sequential\n",
        "from keras.layers import Input, Lambda, Dense, Flatten\n",
        "from keras.models import Model\n",
        "from keras.applications.vgg16 import VGG16\n",
        "from keras.applications.vgg16 import preprocess_input\n",
        "from keras.preprocessing import image\n",
        "from keras.preprocessing.image import ImageDataGenerator\n",
        "from keras.models import Sequential\n",
        "import numpy as np\n",
        "from glob import glob\n",
        "import matplotlib.pyplot as plt\n",
        "\n",
        "import warnings"
      ]
    },
    {
      "cell_type": "code",
      "execution_count": 5,
      "metadata": {
        "id": "5qCFmblW6Et8"
      },
      "outputs": [],
      "source": [
        "from keras.preprocessing.image import ImageDataGenerator\n",
        "\n",
        "train_datagen = ImageDataGenerator(rescale = 1./255,\n",
        "                                   shear_range = 0.2,\n",
        "                                   zoom_range = 0.2,\n",
        "                                   validation_split=0.2,\n",
        "                                   horizontal_flip = True)\n",
        "\n",
        "test_datagen = ImageDataGenerator(rescale = 1./255)"
      ]
    },
    {
      "cell_type": "markdown",
      "source": [
        "**Feature Extraction using pretrained networks**\n",
        "\n",
        "We will use pretrained VGG16 model. This model was trained on ImageNet dataset for 1000 classes. Features learned by the initial layers of VGG16 model are generic enough to apply for other image classification tasks.\n",
        "\n",
        "Let's go with feature extraction using pretrained VGG16 model."
      ],
      "metadata": {
        "id": "8hIbfCi8b3Bm"
      }
    },
    {
      "cell_type": "code",
      "execution_count": 32,
      "metadata": {
        "id": "hzxKngXA6Et9",
        "outputId": "2c6f3079-5c75-49ca-e7c0-4074e642566b",
        "colab": {
          "base_uri": "https://localhost:8080/"
        }
      },
      "outputs": [
        {
          "output_type": "stream",
          "name": "stdout",
          "text": [
            "Found 800 images belonging to 5 classes.\n",
            "Found 40 images belonging to 5 classes.\n",
            "Found 50 images belonging to 1 classes.\n"
          ]
        }
      ],
      "source": [
        "training_set = train_datagen.flow_from_directory('/content/drive/MyDrive/chart_dataset/train',\n",
        "                                                 target_size = (128, 128),\n",
        "                                                 batch_size = 32,\n",
        "                                                 subset=\"training\",\n",
        "                                                 class_mode = 'categorical')\n",
        "\n",
        "validation_set = train_datagen.flow_from_directory('/content/drive/MyDrive/chart/train2/val',\n",
        "                                                 target_size = (128, 128),\n",
        "                                                 batch_size = 32,\n",
        "                                                subset=\"validation\",\n",
        "                                                 class_mode = 'categorical')\n",
        "\n",
        "test_set = test_datagen.flow_from_directory('/content/drive/MyDrive/chart/train2/test',\n",
        "                                            target_size = (128, 128),\n",
        "                                            batch_size = 32,\n",
        "                                            class_mode = 'categorical')\n",
        "\n",
        "\n"
      ]
    },
    {
      "cell_type": "code",
      "execution_count": 35,
      "metadata": {
        "id": "rs3P8Ji_6Et-"
      },
      "outputs": [],
      "source": [
        "from keras.layers import Input, Lambda, Dense, Flatten\n",
        "from keras.models import Model\n",
        "from keras.applications.vgg16 import VGG16\n",
        "from keras.applications.vgg16 import preprocess_input\n",
        "from keras.preprocessing import image\n",
        "from keras.preprocessing.image import ImageDataGenerator\n",
        "from keras.models import Sequential\n",
        "import numpy as np\n",
        "from glob import glob\n",
        "import matplotlib.pyplot as plt\n",
        "\n",
        "import warnings\n",
        "warnings.filterwarnings(\"ignore\", category=FutureWarning)"
      ]
    },
    {
      "cell_type": "code",
      "execution_count": 12,
      "metadata": {
        "id": "BFIxGvSI6Et_"
      },
      "outputs": [],
      "source": [
        ""
      ]
    },
    {
      "cell_type": "code",
      "execution_count": 36,
      "metadata": {
        "id": "BisHh6uK6EuA"
      },
      "outputs": [],
      "source": [
        "#Give dataset path\n",
        "train_path = '/content/drive/MyDrive/chart_dataset/train'\n",
        "test_path = '/content/drive/MyDrive/chart/train2/test'"
      ]
    },
    {
      "cell_type": "code",
      "execution_count": 38,
      "metadata": {
        "id": "jCtL7F7h6EuA",
        "outputId": "c3cad797-4e57-4792-e574-2d7ff95728f9",
        "colab": {
          "base_uri": "https://localhost:8080/"
        }
      },
      "outputs": [
        {
          "output_type": "stream",
          "name": "stdout",
          "text": [
            "5\n"
          ]
        }
      ],
      "source": [
        "# useful for getting number of classes\n",
        "folders = glob('/content/drive/MyDrive/chart_dataset/train/*')\n",
        "print(len(folders))"
      ]
    },
    {
      "cell_type": "markdown",
      "source": [
        "Load the VGG16 model's convolutional base.\n",
        "parameter include_top=False lets us drop the trained classifier from VGG16 model."
      ],
      "metadata": {
        "id": "uBsWpb4gcdzO"
      }
    },
    {
      "cell_type": "code",
      "execution_count": 39,
      "metadata": {
        "id": "ZkB3YFZq6EuB"
      },
      "outputs": [],
      "source": [
        "conv_base = VGG16(\n",
        "                    weights = 'imagenet',\n",
        "                    include_top = False,\n",
        "                    input_shape = (128,128,3)\n",
        "                 )"
      ]
    },
    {
      "cell_type": "code",
      "execution_count": 40,
      "metadata": {
        "id": "IMnZZ8m86EuC",
        "outputId": "dc639d6d-583a-42ae-d179-b187009964d9",
        "colab": {
          "base_uri": "https://localhost:8080/"
        }
      },
      "outputs": [
        {
          "output_type": "stream",
          "name": "stdout",
          "text": [
            "Model: \"vgg16\"\n",
            "_________________________________________________________________\n",
            " Layer (type)                Output Shape              Param #   \n",
            "=================================================================\n",
            " input_2 (InputLayer)        [(None, 128, 128, 3)]     0         \n",
            "                                                                 \n",
            " block1_conv1 (Conv2D)       (None, 128, 128, 64)      1792      \n",
            "                                                                 \n",
            " block1_conv2 (Conv2D)       (None, 128, 128, 64)      36928     \n",
            "                                                                 \n",
            " block1_pool (MaxPooling2D)  (None, 64, 64, 64)        0         \n",
            "                                                                 \n",
            " block2_conv1 (Conv2D)       (None, 64, 64, 128)       73856     \n",
            "                                                                 \n",
            " block2_conv2 (Conv2D)       (None, 64, 64, 128)       147584    \n",
            "                                                                 \n",
            " block2_pool (MaxPooling2D)  (None, 32, 32, 128)       0         \n",
            "                                                                 \n",
            " block3_conv1 (Conv2D)       (None, 32, 32, 256)       295168    \n",
            "                                                                 \n",
            " block3_conv2 (Conv2D)       (None, 32, 32, 256)       590080    \n",
            "                                                                 \n",
            " block3_conv3 (Conv2D)       (None, 32, 32, 256)       590080    \n",
            "                                                                 \n",
            " block3_pool (MaxPooling2D)  (None, 16, 16, 256)       0         \n",
            "                                                                 \n",
            " block4_conv1 (Conv2D)       (None, 16, 16, 512)       1180160   \n",
            "                                                                 \n",
            " block4_conv2 (Conv2D)       (None, 16, 16, 512)       2359808   \n",
            "                                                                 \n",
            " block4_conv3 (Conv2D)       (None, 16, 16, 512)       2359808   \n",
            "                                                                 \n",
            " block4_pool (MaxPooling2D)  (None, 8, 8, 512)         0         \n",
            "                                                                 \n",
            " block5_conv1 (Conv2D)       (None, 8, 8, 512)         2359808   \n",
            "                                                                 \n",
            " block5_conv2 (Conv2D)       (None, 8, 8, 512)         2359808   \n",
            "                                                                 \n",
            " block5_conv3 (Conv2D)       (None, 8, 8, 512)         2359808   \n",
            "                                                                 \n",
            " block5_pool (MaxPooling2D)  (None, 4, 4, 512)         0         \n",
            "                                                                 \n",
            "=================================================================\n",
            "Total params: 14,714,688\n",
            "Trainable params: 14,714,688\n",
            "Non-trainable params: 0\n",
            "_________________________________________________________________\n"
          ]
        }
      ],
      "source": [
        "conv_base.summary()"
      ]
    },
    {
      "cell_type": "markdown",
      "source": [
        "Let's define the model with it's own classifeir on top of VGG16 convolutional base."
      ],
      "metadata": {
        "id": "MtNkMatpcjJf"
      }
    },
    {
      "cell_type": "code",
      "execution_count": 52,
      "metadata": {
        "id": "I615LZI56EuC"
      },
      "outputs": [],
      "source": [
        "from keras import models, layers, optimizers\n",
        "model = models.Sequential()\n",
        "model.add(conv_base)\n",
        "model.add(layers.Dropout(0.5))\n",
        "model.add(layers.Flatten())\n",
        "model.add(layers.Dense(512, activation='relu'))\n",
        "\n",
        "model.add(layers.Dense(5,kernel_regularizer=tf.keras.regularizers.l2(0.001), activation='softmax'))"
      ]
    },
    {
      "cell_type": "code",
      "execution_count": 54,
      "metadata": {
        "id": "Vj5FPzeF6EuD"
      },
      "outputs": [],
      "source": [
        "opt = tf.keras.optimizers.Adam(learning_rate=2e-5)\n",
        "model.compile(loss='categorical_crossentropy', optimizer=opt, metrics=['acc'])"
      ]
    },
    {
      "cell_type": "code",
      "source": [
        "history = model.fit_generator(\n",
        "                                training_set,\n",
        "                                steps_per_epoch = training_set.samples // 32,\n",
        "                                epochs = 12,\n",
        "                                validation_data = validation_set,\n",
        "                                validation_steps = validation_set.samples // 32,\n",
        ")"
      ],
      "metadata": {
        "colab": {
          "base_uri": "https://localhost:8080/"
        },
        "id": "_gWyL8P5uGij",
        "outputId": "9eae424e-1ada-4d15-d8c8-ff19e02f79a4"
      },
      "execution_count": 55,
      "outputs": [
        {
          "output_type": "stream",
          "name": "stdout",
          "text": [
            "Epoch 1/12\n"
          ]
        },
        {
          "output_type": "stream",
          "name": "stderr",
          "text": [
            "/usr/local/lib/python3.7/dist-packages/ipykernel_launcher.py:6: UserWarning: `Model.fit_generator` is deprecated and will be removed in a future version. Please use `Model.fit`, which supports generators.\n",
            "  \n"
          ]
        },
        {
          "output_type": "stream",
          "name": "stdout",
          "text": [
            "25/25 [==============================] - 6s 206ms/step - loss: 0.3065 - acc: 0.9137 - val_loss: 0.0101 - val_acc: 1.0000\n",
            "Epoch 2/12\n",
            "25/25 [==============================] - 5s 191ms/step - loss: 0.0121 - acc: 1.0000 - val_loss: 0.0099 - val_acc: 1.0000\n",
            "Epoch 3/12\n",
            "25/25 [==============================] - 5s 191ms/step - loss: 0.0108 - acc: 1.0000 - val_loss: 0.0098 - val_acc: 1.0000\n",
            "Epoch 4/12\n",
            "25/25 [==============================] - 5s 193ms/step - loss: 0.0105 - acc: 1.0000 - val_loss: 0.0098 - val_acc: 1.0000\n",
            "Epoch 5/12\n",
            "25/25 [==============================] - 5s 192ms/step - loss: 0.0100 - acc: 1.0000 - val_loss: 0.0098 - val_acc: 1.0000\n",
            "Epoch 6/12\n",
            "25/25 [==============================] - 5s 193ms/step - loss: 0.0101 - acc: 1.0000 - val_loss: 0.0098 - val_acc: 1.0000\n",
            "Epoch 7/12\n",
            "25/25 [==============================] - 5s 192ms/step - loss: 0.0101 - acc: 1.0000 - val_loss: 0.0098 - val_acc: 1.0000\n",
            "Epoch 8/12\n",
            "25/25 [==============================] - 5s 191ms/step - loss: 0.0101 - acc: 1.0000 - val_loss: 0.0098 - val_acc: 1.0000\n",
            "Epoch 9/12\n",
            "25/25 [==============================] - 5s 191ms/step - loss: 0.0100 - acc: 1.0000 - val_loss: 0.0098 - val_acc: 1.0000\n",
            "Epoch 10/12\n",
            "25/25 [==============================] - 5s 192ms/step - loss: 0.0099 - acc: 1.0000 - val_loss: 0.0098 - val_acc: 1.0000\n",
            "Epoch 11/12\n",
            "25/25 [==============================] - 5s 194ms/step - loss: 0.0099 - acc: 1.0000 - val_loss: 0.0098 - val_acc: 1.0000\n",
            "Epoch 12/12\n",
            "25/25 [==============================] - 5s 191ms/step - loss: 0.0099 - acc: 1.0000 - val_loss: 0.0098 - val_acc: 1.0000\n"
          ]
        }
      ]
    },
    {
      "cell_type": "code",
      "source": [
        "fig, axs = plt.subplots(nrows=1, ncols=2, figsize=(15,5))\n",
        "axs[0].plot(history.history['acc'])\n",
        "axs[0].plot(history.history['val_acc'])\n",
        "axs[0].set_title('Model_acc')\n",
        "axs[0].legend(['Train', 'Val'], loc='upper left')\n",
        "\n",
        "axs[1].plot(history.history['loss'])\n",
        "axs[1].plot(history.history['val_loss'])\n",
        "axs[1].set_title('Model loss')\n",
        "axs[1].legend(['Train', 'Val'], loc='upper left')\n",
        "\n",
        "for ax in axs.flat:\n",
        "    ax.set(xlabel='20')"
      ],
      "metadata": {
        "colab": {
          "base_uri": "https://localhost:8080/",
          "height": 350
        },
        "id": "wUXPGUYpSaFI",
        "outputId": "7c9bfc58-c780-49bd-e18c-09d0e2a7648b"
      },
      "execution_count": 62,
      "outputs": [
        {
          "output_type": "display_data",
          "data": {
            "text/plain": [
              "<Figure size 1080x360 with 2 Axes>"
            ],
            "image/png": "[encoded data removed]"
          },
          "metadata": {
            "needs_background": "light"
          }
        }
      ]
    },
    {
      "cell_type": "code",
      "source": [
        "val_acc = history.history['val_acc']\n",
        "val_loss = history.history['val_loss']\n",
        "print(\"Average Validation accuracy: \", np.mean(val_acc))\n",
        "print(\"Average Validation loss: \", np.mean(val_loss))"
      ],
      "metadata": {
        "colab": {
          "base_uri": "https://localhost:8080/"
        },
        "id": "QiC7ah7XW9uV",
        "outputId": "dc9d2b35-ce30-46c1-be02-0441053c8a8a"
      },
      "execution_count": 63,
      "outputs": [
        {
          "output_type": "stream",
          "name": "stdout",
          "text": [
            "Average Validation accuracy:  1.0\n",
            "Average Validation loss:  0.009844273949662844\n"
          ]
        }
      ]
    },
    {
      "cell_type": "code",
      "source": [
        "import math\n",
        "test_acc, test_loss = model.evaluate_generator(test_set, steps=test_set.samples // 32)\n",
        "print(\"Test Accuracy: \", math.ceil(test_acc*100)/100)"
      ],
      "metadata": {
        "colab": {
          "base_uri": "https://localhost:8080/"
        },
        "id": "mFOO6X2BXObD",
        "outputId": "23c1b1ac-e577-4e6e-ac1b-3ac2525cd5d1"
      },
      "execution_count": 66,
      "outputs": [
        {
          "output_type": "stream",
          "name": "stdout",
          "text": [
            "Test Accuracy:  87.14\n"
          ]
        },
        {
          "output_type": "stream",
          "name": "stderr",
          "text": [
            "/usr/local/lib/python3.7/dist-packages/ipykernel_launcher.py:2: UserWarning: `Model.evaluate_generator` is deprecated and will be removed in a future version. Please use `Model.evaluate`, which supports generators.\n",
            "  \n"
          ]
        }
      ]
    },
    {
      "cell_type": "code",
      "execution_count": null,
      "metadata": {
        "id": "fMm778Cw6EuL"
      },
      "outputs": [],
      "source": [
        ""
      ]
    }
  ],
  "metadata": {
    "kernelspec": {
      "display_name": "Python 3",
      "language": "python",
      "name": "python3"
    },
    "language_info": {
      "codemirror_mode": {
        "name": "ipython",
        "version": 3
      },
      "file_extension": ".py",
      "mimetype": "text/x-python",
      "name": "python",
      "nbconvert_exporter": "python",
      "pygments_lexer": "ipython3",
      "version": "3.7.7"
    },
    "colab": {
      "name": "fine-tunning VGG16.ipynb",
      "provenance": [],
      "include_colab_link": true
    },
    "accelerator": "GPU",
    "gpuClass": "standard"
  },
  "nbformat": 4,
  "nbformat_minor": 0
}